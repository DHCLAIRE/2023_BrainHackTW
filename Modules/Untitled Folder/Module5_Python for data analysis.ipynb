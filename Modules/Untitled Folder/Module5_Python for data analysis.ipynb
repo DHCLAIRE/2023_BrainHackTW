{
 "cells": [
  {
   "cell_type": "code",
   "execution_count": 1,
   "metadata": {},
   "outputs": [
    {
     "name": "stdout",
     "output_type": "stream",
     "text": [
      "Using matplotlib backend: MacOSX\n"
     ]
    }
   ],
   "source": [
    "%matplotlib"
   ]
  },
  {
   "cell_type": "code",
   "execution_count": 13,
   "metadata": {},
   "outputs": [],
   "source": [
    "# Import required packages\n",
    "import pandas as pd\n",
    "import numpy as np\n",
    "import matplotlib.pyplot as plt\n",
    "from sklearn.datasets import load_iris\n",
    "from pprint import pprint"
   ]
  },
  {
   "cell_type": "markdown",
   "metadata": {},
   "source": [
    "1. Load the dataset with iris = load_iris()\n",
    "2. Explore the dataset using .keys()\n",
    "3. Print the shape and type of the 'data'\n",
    "4. Declare two variables that store 'data' and 'feature_names'\n",
    "5. Create a pandas dataframe with 'data' and use 'feature_names' for the column names\n",
    "6. Get the summary statistics of this dataframe using .describe()\n",
    "7. Subset the dataframe to keep only the first 50 rows\n",
    "8. Check if there are any extreme sepal length values (extreme value criterion: less or greater than 3.9 standard diviations away from the mean)\n",
    "9. What about the other three features? Define a function that checks for extreme values for each of the features.\n",
    "10. Optional: Usually boxplots (see below) treat as “outliers” those values that are outside of 1.5 times the interquartile range. You can try to define a function that checks for boxplot outliers too.\n",
    "11. Check out how to plot boxplots at matplotlib\n",
    "12. Boxplot the distribution of the features. Please do add labels for the axes\n",
    "13. Save the dataframe as a csv file and the boxplot as a png file"
   ]
  },
  {
   "cell_type": "code",
   "execution_count": 18,
   "metadata": {},
   "outputs": [
    {
     "ename": "AttributeError",
     "evalue": "shape",
     "output_type": "error",
     "traceback": [
      "\u001b[0;31m---------------------------------------------------------------------------\u001b[0m",
      "\u001b[0;31mKeyError\u001b[0m                                  Traceback (most recent call last)",
      "\u001b[0;32m/opt/anaconda3/envs/nlp/lib/python3.8/site-packages/sklearn/utils/__init__.py\u001b[0m in \u001b[0;36m__getattr__\u001b[0;34m(self, key)\u001b[0m\n\u001b[1;32m     95\u001b[0m         \u001b[0;32mtry\u001b[0m\u001b[0;34m:\u001b[0m\u001b[0;34m\u001b[0m\u001b[0;34m\u001b[0m\u001b[0m\n\u001b[0;32m---> 96\u001b[0;31m             \u001b[0;32mreturn\u001b[0m \u001b[0mself\u001b[0m\u001b[0;34m[\u001b[0m\u001b[0mkey\u001b[0m\u001b[0;34m]\u001b[0m\u001b[0;34m\u001b[0m\u001b[0;34m\u001b[0m\u001b[0m\n\u001b[0m\u001b[1;32m     97\u001b[0m         \u001b[0;32mexcept\u001b[0m \u001b[0mKeyError\u001b[0m\u001b[0;34m:\u001b[0m\u001b[0;34m\u001b[0m\u001b[0;34m\u001b[0m\u001b[0m\n",
      "\u001b[0;31mKeyError\u001b[0m: 'shape'",
      "\nDuring handling of the above exception, another exception occurred:\n",
      "\u001b[0;31mAttributeError\u001b[0m                            Traceback (most recent call last)",
      "\u001b[0;32m<ipython-input-18-8d2f2c63a3c7>\u001b[0m in \u001b[0;36m<module>\u001b[0;34m\u001b[0m\n\u001b[1;32m      1\u001b[0m \u001b[0;31m# Load the dataset with iris = load_iris()\u001b[0m\u001b[0;34m\u001b[0m\u001b[0;34m\u001b[0m\u001b[0;34m\u001b[0m\u001b[0m\n\u001b[1;32m      2\u001b[0m \u001b[0mirisDataset\u001b[0m \u001b[0;34m=\u001b[0m \u001b[0mload_iris\u001b[0m\u001b[0;34m(\u001b[0m\u001b[0;34m)\u001b[0m\u001b[0;34m\u001b[0m\u001b[0;34m\u001b[0m\u001b[0m\n\u001b[0;32m----> 3\u001b[0;31m \u001b[0mprint\u001b[0m\u001b[0;34m(\u001b[0m\u001b[0mirisDataset\u001b[0m\u001b[0;34m.\u001b[0m\u001b[0mshape\u001b[0m\u001b[0;34m)\u001b[0m\u001b[0;34m\u001b[0m\u001b[0;34m\u001b[0m\u001b[0m\n\u001b[0m\u001b[1;32m      4\u001b[0m \u001b[0mprint\u001b[0m\u001b[0;34m(\u001b[0m\u001b[0mlen\u001b[0m\u001b[0;34m(\u001b[0m\u001b[0mirisDataset\u001b[0m\u001b[0;34m)\u001b[0m\u001b[0;34m)\u001b[0m\u001b[0;34m\u001b[0m\u001b[0;34m\u001b[0m\u001b[0m\n\u001b[1;32m      5\u001b[0m \u001b[0;31m#irisDF = pd.DataFrame(irisDataset)\u001b[0m\u001b[0;34m\u001b[0m\u001b[0;34m\u001b[0m\u001b[0;34m\u001b[0m\u001b[0m\n",
      "\u001b[0;32m/opt/anaconda3/envs/nlp/lib/python3.8/site-packages/sklearn/utils/__init__.py\u001b[0m in \u001b[0;36m__getattr__\u001b[0;34m(self, key)\u001b[0m\n\u001b[1;32m     96\u001b[0m             \u001b[0;32mreturn\u001b[0m \u001b[0mself\u001b[0m\u001b[0;34m[\u001b[0m\u001b[0mkey\u001b[0m\u001b[0;34m]\u001b[0m\u001b[0;34m\u001b[0m\u001b[0;34m\u001b[0m\u001b[0m\n\u001b[1;32m     97\u001b[0m         \u001b[0;32mexcept\u001b[0m \u001b[0mKeyError\u001b[0m\u001b[0;34m:\u001b[0m\u001b[0;34m\u001b[0m\u001b[0;34m\u001b[0m\u001b[0m\n\u001b[0;32m---> 98\u001b[0;31m             \u001b[0;32mraise\u001b[0m \u001b[0mAttributeError\u001b[0m\u001b[0;34m(\u001b[0m\u001b[0mkey\u001b[0m\u001b[0;34m)\u001b[0m\u001b[0;34m\u001b[0m\u001b[0;34m\u001b[0m\u001b[0m\n\u001b[0m\u001b[1;32m     99\u001b[0m \u001b[0;34m\u001b[0m\u001b[0m\n\u001b[1;32m    100\u001b[0m     \u001b[0;32mdef\u001b[0m \u001b[0m__setstate__\u001b[0m\u001b[0;34m(\u001b[0m\u001b[0mself\u001b[0m\u001b[0;34m,\u001b[0m \u001b[0mstate\u001b[0m\u001b[0;34m)\u001b[0m\u001b[0;34m:\u001b[0m\u001b[0;34m\u001b[0m\u001b[0;34m\u001b[0m\u001b[0m\n",
      "\u001b[0;31mAttributeError\u001b[0m: shape"
     ]
    }
   ],
   "source": [
    "# Load the dataset with iris = load_iris()\n",
    "irisDataset = load_iris()\n",
    "print(irisDataset.shape)\n",
    "print(len(irisDataset))\n",
    "#irisDF = pd.DataFrame(irisDataset)\n",
    "#pprint(irisDataset)  # pd.dataframe it\n",
    "#print(type(irisDataset))   #= <class 'sklearn.utils.Bunch'>\n",
    "\n",
    "print(irisDF)\n",
    "print(type(irisDF))"
   ]
  },
  {
   "cell_type": "code",
   "execution_count": 30,
   "metadata": {},
   "outputs": [
    {
     "name": "stdout",
     "output_type": "stream",
     "text": [
      "dict_keys(['data', 'target', 'frame', 'target_names', 'DESCR', 'feature_names', 'filename'])\n"
     ]
    }
   ],
   "source": [
    "# (DONE) Explore the dataset using .keys()\n",
    "print(irisDataset.keys())"
   ]
  },
  {
   "cell_type": "code",
   "execution_count": 28,
   "metadata": {},
   "outputs": [
    {
     "name": "stdout",
     "output_type": "stream",
     "text": [
      "(150, 4)\n",
      "<class 'numpy.ndarray'>\n"
     ]
    }
   ],
   "source": [
    "# (DONE) Print the shape and type of the 'data'\n",
    "print(irisDataset[\"data\"].shape)\n",
    "print(type(irisDataset[\"data\"]))"
   ]
  },
  {
   "cell_type": "code",
   "execution_count": 34,
   "metadata": {},
   "outputs": [
    {
     "name": "stdout",
     "output_type": "stream",
     "text": [
      "['sepal length (cm)', 'sepal width (cm)', 'petal length (cm)', 'petal width (cm)']\n"
     ]
    }
   ],
   "source": [
    "# (DONE) Declare two variables that store 'data' and 'feature_names'\n",
    "irisNDArray = irisDataset[\"data\"]\n",
    "iris_nameLIST = irisDataset[\"feature_names\"]\n",
    "\n",
    "#print(irisNDArray)\n",
    "print(iris_nameLIST)"
   ]
  },
  {
   "cell_type": "code",
   "execution_count": 36,
   "metadata": {},
   "outputs": [
    {
     "name": "stdout",
     "output_type": "stream",
     "text": [
      "     sepal length (cm)  sepal width (cm)  petal length (cm)  petal width (cm)\n",
      "0                  5.1               3.5                1.4               0.2\n",
      "1                  4.9               3.0                1.4               0.2\n",
      "2                  4.7               3.2                1.3               0.2\n",
      "3                  4.6               3.1                1.5               0.2\n",
      "4                  5.0               3.6                1.4               0.2\n",
      "..                 ...               ...                ...               ...\n",
      "145                6.7               3.0                5.2               2.3\n",
      "146                6.3               2.5                5.0               1.9\n",
      "147                6.5               3.0                5.2               2.0\n",
      "148                6.2               3.4                5.4               2.3\n",
      "149                5.9               3.0                5.1               1.8\n",
      "\n",
      "[150 rows x 4 columns]\n"
     ]
    }
   ],
   "source": [
    "# Create a pandas dataframe with 'data' and use 'feature_names' for the column names\n",
    "irisDF = pd.DataFrame(irisNDArray, columns=iris_nameLIST)\n",
    "print(irisDF)"
   ]
  },
  {
   "cell_type": "code",
   "execution_count": 38,
   "metadata": {},
   "outputs": [
    {
     "name": "stdout",
     "output_type": "stream",
     "text": [
      "       sepal length (cm)  sepal width (cm)  petal length (cm)  \\\n",
      "count         150.000000        150.000000         150.000000   \n",
      "mean            5.843333          3.057333           3.758000   \n",
      "std             0.828066          0.435866           1.765298   \n",
      "min             4.300000          2.000000           1.000000   \n",
      "25%             5.100000          2.800000           1.600000   \n",
      "50%             5.800000          3.000000           4.350000   \n",
      "75%             6.400000          3.300000           5.100000   \n",
      "max             7.900000          4.400000           6.900000   \n",
      "\n",
      "       petal width (cm)  \n",
      "count        150.000000  \n",
      "mean           1.199333  \n",
      "std            0.762238  \n",
      "min            0.100000  \n",
      "25%            0.300000  \n",
      "50%            1.300000  \n",
      "75%            1.800000  \n",
      "max            2.500000  \n"
     ]
    }
   ],
   "source": [
    "# Get the summary statistics of this dataframe using .describe()\n",
    "iris_Stats = irisDF.describe()\n",
    "print(iris_Stats)"
   ]
  },
  {
   "cell_type": "code",
   "execution_count": 40,
   "metadata": {},
   "outputs": [
    {
     "name": "stdout",
     "output_type": "stream",
     "text": [
      "    sepal length (cm)  sepal width (cm)  petal length (cm)  petal width (cm)\n",
      "0                 5.1               3.5                1.4               0.2\n",
      "1                 4.9               3.0                1.4               0.2\n",
      "2                 4.7               3.2                1.3               0.2\n",
      "3                 4.6               3.1                1.5               0.2\n",
      "4                 5.0               3.6                1.4               0.2\n",
      "5                 5.4               3.9                1.7               0.4\n",
      "6                 4.6               3.4                1.4               0.3\n",
      "7                 5.0               3.4                1.5               0.2\n",
      "8                 4.4               2.9                1.4               0.2\n",
      "9                 4.9               3.1                1.5               0.1\n",
      "10                5.4               3.7                1.5               0.2\n",
      "11                4.8               3.4                1.6               0.2\n",
      "12                4.8               3.0                1.4               0.1\n",
      "13                4.3               3.0                1.1               0.1\n",
      "14                5.8               4.0                1.2               0.2\n",
      "15                5.7               4.4                1.5               0.4\n",
      "16                5.4               3.9                1.3               0.4\n",
      "17                5.1               3.5                1.4               0.3\n",
      "18                5.7               3.8                1.7               0.3\n",
      "19                5.1               3.8                1.5               0.3\n",
      "20                5.4               3.4                1.7               0.2\n",
      "21                5.1               3.7                1.5               0.4\n",
      "22                4.6               3.6                1.0               0.2\n",
      "23                5.1               3.3                1.7               0.5\n",
      "24                4.8               3.4                1.9               0.2\n",
      "25                5.0               3.0                1.6               0.2\n",
      "26                5.0               3.4                1.6               0.4\n",
      "27                5.2               3.5                1.5               0.2\n",
      "28                5.2               3.4                1.4               0.2\n",
      "29                4.7               3.2                1.6               0.2\n",
      "30                4.8               3.1                1.6               0.2\n",
      "31                5.4               3.4                1.5               0.4\n",
      "32                5.2               4.1                1.5               0.1\n",
      "33                5.5               4.2                1.4               0.2\n",
      "34                4.9               3.1                1.5               0.2\n",
      "35                5.0               3.2                1.2               0.2\n",
      "36                5.5               3.5                1.3               0.2\n",
      "37                4.9               3.6                1.4               0.1\n",
      "38                4.4               3.0                1.3               0.2\n",
      "39                5.1               3.4                1.5               0.2\n",
      "40                5.0               3.5                1.3               0.3\n",
      "41                4.5               2.3                1.3               0.3\n",
      "42                4.4               3.2                1.3               0.2\n",
      "43                5.0               3.5                1.6               0.6\n",
      "44                5.1               3.8                1.9               0.4\n",
      "45                4.8               3.0                1.4               0.3\n",
      "46                5.1               3.8                1.6               0.2\n",
      "47                4.6               3.2                1.4               0.2\n",
      "48                5.3               3.7                1.5               0.2\n",
      "49                5.0               3.3                1.4               0.2\n",
      "50\n"
     ]
    }
   ],
   "source": [
    "# Subset the dataframe to keep only the first 50 rows\n",
    "irisDF_50 = irisDF[:50]\n",
    "print(irisDF_50)\n",
    "#print(len(irisDF_50))"
   ]
  },
  {
   "cell_type": "code",
   "execution_count": 44,
   "metadata": {},
   "outputs": [
    {
     "name": "stdout",
     "output_type": "stream",
     "text": [
      "<class 'str'>\n",
      "<class 'str'>\n",
      "<class 'str'>\n",
      "<class 'str'>\n"
     ]
    }
   ],
   "source": [
    "# Check if there are any extreme sepal length values (extreme value criterion: less or greater than 3.9 standard diviations away from the mean)\n",
    "\n",
    "print(iris)"
   ]
  },
  {
   "cell_type": "code",
   "execution_count": null,
   "metadata": {},
   "outputs": [],
   "source": [
    "# What about the other three features? Define a function that checks for extreme values for each of the features.\n"
   ]
  },
  {
   "cell_type": "code",
   "execution_count": null,
   "metadata": {},
   "outputs": [],
   "source": [
    "# Optional: Usually boxplots (see below) treat as “outliers” those values that are outside of 1.5 times the interquartile range. You can try to define a function that checks for boxplot outliers too.\n"
   ]
  },
  {
   "cell_type": "code",
   "execution_count": null,
   "metadata": {},
   "outputs": [],
   "source": [
    "# Check out how to plot boxplots at matplotlib\n"
   ]
  },
  {
   "cell_type": "code",
   "execution_count": null,
   "metadata": {},
   "outputs": [],
   "source": [
    "# Boxplot the distribution of the features. Please do add labels for the axes\n"
   ]
  },
  {
   "cell_type": "code",
   "execution_count": null,
   "metadata": {},
   "outputs": [],
   "source": [
    "# Save the dataframe as a csv file and the boxplot as a png file"
   ]
  }
 ],
 "metadata": {
  "kernelspec": {
   "display_name": "Python 3",
   "language": "python",
   "name": "python3"
  },
  "language_info": {
   "codemirror_mode": {
    "name": "ipython",
    "version": 3
   },
   "file_extension": ".py",
   "mimetype": "text/x-python",
   "name": "python",
   "nbconvert_exporter": "python",
   "pygments_lexer": "ipython3",
   "version": "3.8.5"
  }
 },
 "nbformat": 4,
 "nbformat_minor": 4
}
